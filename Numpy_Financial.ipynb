{
  "nbformat": 4,
  "nbformat_minor": 0,
  "metadata": {
    "colab": {
      "name": "Numpy Financial.ipynb",
      "provenance": [],
      "authorship_tag": "ABX9TyP2YYEiqZeACS3sRMlpDX/q",
      "include_colab_link": true
    },
    "kernelspec": {
      "name": "python3",
      "display_name": "Python 3"
    }
  },
  "cells": [
    {
      "cell_type": "markdown",
      "metadata": {
        "id": "view-in-github",
        "colab_type": "text"
      },
      "source": [
        "<a href=\"https://colab.research.google.com/github/laplaceconsulting/python_for_finance/blob/main/Numpy_Financial.ipynb\" target=\"_parent\"><img src=\"https://colab.research.google.com/assets/colab-badge.svg\" alt=\"Open In Colab\"/></a>"
      ]
    },
    {
      "cell_type": "markdown",
      "metadata": {
        "id": "VIcfwqrnGMLG"
      },
      "source": [
        "###Numpy Financial\n",
        "## Valor do Dinheiro no Tempo - VP VF"
      ]
    },
    {
      "cell_type": "code",
      "metadata": {
        "colab": {
          "base_uri": "https://localhost:8080/",
          "height": 333
        },
        "id": "CGoBpAgtGUqS",
        "outputId": "e3944424-fc69-4227-9677-c5ed244d7208"
      },
      "source": [
        "#importando bibliotecas\n",
        "import pandas as pd\n",
        "import numpy as np\n",
        "import numpy_financial as npf"
      ],
      "execution_count": null,
      "outputs": [
        {
          "output_type": "error",
          "ename": "ModuleNotFoundError",
          "evalue": "ignored",
          "traceback": [
            "\u001b[0;31m---------------------------------------------------------------------------\u001b[0m",
            "\u001b[0;31mModuleNotFoundError\u001b[0m                       Traceback (most recent call last)",
            "\u001b[0;32m<ipython-input-1-eb8fcb764cf0>\u001b[0m in \u001b[0;36m<module>\u001b[0;34m()\u001b[0m\n\u001b[1;32m      2\u001b[0m \u001b[0;32mimport\u001b[0m \u001b[0mpandas\u001b[0m \u001b[0;32mas\u001b[0m \u001b[0mpd\u001b[0m\u001b[0;34m\u001b[0m\u001b[0;34m\u001b[0m\u001b[0m\n\u001b[1;32m      3\u001b[0m \u001b[0;32mimport\u001b[0m \u001b[0mnumpy\u001b[0m \u001b[0;32mas\u001b[0m \u001b[0mnp\u001b[0m\u001b[0;34m\u001b[0m\u001b[0;34m\u001b[0m\u001b[0m\n\u001b[0;32m----> 4\u001b[0;31m \u001b[0;32mimport\u001b[0m \u001b[0mnumpy_financial\u001b[0m \u001b[0;32mas\u001b[0m \u001b[0mnpf\u001b[0m\u001b[0;34m\u001b[0m\u001b[0;34m\u001b[0m\u001b[0m\n\u001b[0m",
            "\u001b[0;31mModuleNotFoundError\u001b[0m: No module named 'numpy_financial'",
            "",
            "\u001b[0;31m---------------------------------------------------------------------------\u001b[0;32m\nNOTE: If your import is failing due to a missing package, you can\nmanually install dependencies using either !pip or !apt.\n\nTo view examples of installing some common dependencies, click the\n\"Open Examples\" button below.\n\u001b[0;31m---------------------------------------------------------------------------\u001b[0m\n"
          ]
        }
      ]
    },
    {
      "cell_type": "code",
      "metadata": {
        "colab": {
          "base_uri": "https://localhost:8080/"
        },
        "id": "ax8dinEGHcEl",
        "outputId": "7f166a0b-0581-492f-c221-883803ebe0c1"
      },
      "source": [
        "! pip install numpy_financial"
      ],
      "execution_count": null,
      "outputs": [
        {
          "output_type": "stream",
          "text": [
            "Collecting numpy_financial\n",
            "  Downloading https://files.pythonhosted.org/packages/6a/be/d07585e440d58835bad8f1c9ca7823b5252ffeda4c797e653a20215fca65/numpy_financial-1.0.0-py3-none-any.whl\n",
            "Requirement already satisfied: numpy>=1.15 in /usr/local/lib/python3.6/dist-packages (from numpy_financial) (1.19.5)\n",
            "Installing collected packages: numpy-financial\n",
            "Successfully installed numpy-financial-1.0.0\n"
          ],
          "name": "stdout"
        }
      ]
    },
    {
      "cell_type": "code",
      "metadata": {
        "id": "no25IuJpHkQ9"
      },
      "source": [
        "import numpy_financial as npf"
      ],
      "execution_count": null,
      "outputs": []
    },
    {
      "cell_type": "markdown",
      "metadata": {
        "id": "BuUCfzYVQk1v"
      },
      "source": [
        "##2. Valor Presente"
      ]
    },
    {
      "cell_type": "code",
      "metadata": {
        "id": "cZneg6a7Hocd"
      },
      "source": [
        "#Valor Presente \n",
        "\n",
        "vf = -10000\n",
        "i = 0.05\n",
        "pagamento = 0\n",
        "\n",
        "valor_presente = npf.pv(i, 10, pmt=0, fv=vf)"
      ],
      "execution_count": null,
      "outputs": []
    },
    {
      "cell_type": "code",
      "metadata": {
        "colab": {
          "base_uri": "https://localhost:8080/"
        },
        "id": "e8CzVhevIhbz",
        "outputId": "efa0b077-9676-4510-ece1-f4ade2e9438d"
      },
      "source": [
        "valor_presente"
      ],
      "execution_count": null,
      "outputs": [
        {
          "output_type": "execute_result",
          "data": {
            "text/plain": [
              "6139.132535407592"
            ]
          },
          "metadata": {
            "tags": []
          },
          "execution_count": 7
        }
      ]
    },
    {
      "cell_type": "markdown",
      "metadata": {
        "id": "GSYA_KX5QrrM"
      },
      "source": [
        "##3. Valor Futuro"
      ]
    },
    {
      "cell_type": "code",
      "metadata": {
        "colab": {
          "base_uri": "https://localhost:8080/"
        },
        "id": "Trvs6IhyIjWo",
        "outputId": "cc8e512c-e6f9-4e43-bf43-2b827efe9da9"
      },
      "source": [
        "#Valor Futuro\n",
        "\n",
        "valor_futuro = npf.fv(i, 10, pmt=pagamento,pv=-valor_presente)\n",
        "valor_futuro"
      ],
      "execution_count": null,
      "outputs": [
        {
          "output_type": "execute_result",
          "data": {
            "text/plain": [
              "10000.0"
            ]
          },
          "metadata": {
            "tags": []
          },
          "execution_count": 8
        }
      ]
    },
    {
      "cell_type": "markdown",
      "metadata": {
        "id": "hzCDwKfGQvyv"
      },
      "source": [
        "##4. Análise de Projeto\n",
        "\n",
        "Análise de um projeto que gera um fluxo de caixa (cf1), abaixo temos a composição da estrutura de capital da empresa e também sua taxa mínima de atratividade (wacc - custo médio ponderado de capital)"
      ]
    },
    {
      "cell_type": "code",
      "metadata": {
        "colab": {
          "base_uri": "https://localhost:8080/"
        },
        "id": "_iiyWMLYJF3A",
        "outputId": "250bc45c-d93e-4d2c-88e8-27749b88182b"
      },
      "source": [
        "# Valor Presente Líquido\n",
        "\n",
        "ativo = 100000000\n",
        "passivo_oneroso = 40000000\n",
        "patriomonio_liquido = 60000000\n",
        "ki = 0.12\n",
        "ke = 0.17\n",
        "\n",
        "wacc = ((passivo_oneroso/ativo)*ki)+((patriomonio_liquido/ativo)*ke)\n",
        "wacc"
      ],
      "execution_count": null,
      "outputs": [
        {
          "output_type": "execute_result",
          "data": {
            "text/plain": [
              "0.15000000000000002"
            ]
          },
          "metadata": {
            "tags": []
          },
          "execution_count": 9
        }
      ]
    },
    {
      "cell_type": "markdown",
      "metadata": {
        "id": "kzPTd75uRStg"
      },
      "source": [
        "##4.2. Valor Presente Líquido"
      ]
    },
    {
      "cell_type": "code",
      "metadata": {
        "id": "usS9v_PpKxB-"
      },
      "source": [
        "cf1 = np.array([-100,-50,30,30,30,30,50,50,50,50])\n",
        "\n",
        "vpl = npf.npv(wacc, cf1)"
      ],
      "execution_count": null,
      "outputs": []
    },
    {
      "cell_type": "code",
      "metadata": {
        "colab": {
          "base_uri": "https://localhost:8080/"
        },
        "id": "PViqFjTlL29R",
        "outputId": "b36967ec-4b41-4923-8870-153fd5062a32"
      },
      "source": [
        "vpl"
      ],
      "execution_count": null,
      "outputs": [
        {
          "output_type": "execute_result",
          "data": {
            "text/plain": [
              "1.9708766350858458"
            ]
          },
          "metadata": {
            "tags": []
          },
          "execution_count": 11
        }
      ]
    },
    {
      "cell_type": "markdown",
      "metadata": {
        "id": "Cf7yvVadRR2R"
      },
      "source": [
        "##4.3. Taxa Interna de Retorno "
      ]
    },
    {
      "cell_type": "code",
      "metadata": {
        "colab": {
          "base_uri": "https://localhost:8080/"
        },
        "id": "GWshOVatL3xR",
        "outputId": "cca4bf8f-e539-435d-e48f-9210f7390efe"
      },
      "source": [
        "#TIR - Taxa Interna de Retorno\n",
        "\n",
        "tir = npf.irr(cf1)\n",
        "tir"
      ],
      "execution_count": null,
      "outputs": [
        {
          "output_type": "execute_result",
          "data": {
            "text/plain": [
              "0.15316234296871767"
            ]
          },
          "metadata": {
            "tags": []
          },
          "execution_count": 12
        }
      ]
    },
    {
      "cell_type": "markdown",
      "metadata": {
        "id": "oGlGvkOtRbBO"
      },
      "source": [
        "##5. Valuation de Padaria - Metodologia Simplificada"
      ]
    },
    {
      "cell_type": "code",
      "metadata": {
        "id": "nlQgT2oiMYRv"
      },
      "source": [
        "#Valuation de Padaria\n",
        "\n",
        "lucro_operacional = 50000\n",
        "despesas_capital = 5000\n",
        "delta_ncg = 3000\n",
        "reinvestimento = (despesas_capital + delta_ncg)\n",
        "\n",
        "\n"
      ],
      "execution_count": null,
      "outputs": []
    },
    {
      "cell_type": "code",
      "metadata": {
        "colab": {
          "base_uri": "https://localhost:8080/"
        },
        "id": "TDAPAQmnPB6K",
        "outputId": "a30435aa-cc61-45e9-cc8e-e3dc64c1e6b9"
      },
      "source": [
        "FCf = (lucro_operacional - reinvestimento)\n",
        "\n",
        "FCf"
      ],
      "execution_count": null,
      "outputs": [
        {
          "output_type": "execute_result",
          "data": {
            "text/plain": [
              "42000"
            ]
          },
          "metadata": {
            "tags": []
          },
          "execution_count": 15
        }
      ]
    },
    {
      "cell_type": "code",
      "metadata": {
        "colab": {
          "base_uri": "https://localhost:8080/"
        },
        "id": "BbUsMYb2PQKL",
        "outputId": "a8e3a8b7-9110-43ce-9ae8-222cd7f9895c"
      },
      "source": [
        "#Período Explícito 5 anos\n",
        "\n",
        "\n",
        "vp_fcf = npf.pv(wacc, 5, pmt=-FCf, when='begin')\n",
        "vp_fcf\n",
        "\n"
      ],
      "execution_count": null,
      "outputs": [
        {
          "output_type": "execute_result",
          "data": {
            "text/plain": [
              "161909.0912339506"
            ]
          },
          "metadata": {
            "tags": []
          },
          "execution_count": 16
        }
      ]
    },
    {
      "cell_type": "code",
      "metadata": {
        "id": "l7gDht0KSfNX"
      },
      "source": [
        "#Perpetuidade\n",
        "\n",
        "i_crescimento = 0.02\n",
        "\n",
        "perpetuidade = (FCf*(1+i_crescimento)/(wacc-i_crescimento))\n"
      ],
      "execution_count": null,
      "outputs": []
    },
    {
      "cell_type": "code",
      "metadata": {
        "colab": {
          "base_uri": "https://localhost:8080/"
        },
        "id": "TEBOn0fVS_gT",
        "outputId": "1d6de5f8-0f81-401a-dc95-e52f7855d24d"
      },
      "source": [
        "perpetuidade"
      ],
      "execution_count": null,
      "outputs": [
        {
          "output_type": "execute_result",
          "data": {
            "text/plain": [
              "329538.46153846144"
            ]
          },
          "metadata": {
            "tags": []
          },
          "execution_count": 18
        }
      ]
    },
    {
      "cell_type": "code",
      "metadata": {
        "colab": {
          "base_uri": "https://localhost:8080/"
        },
        "id": "Acfv6vnsTA_J",
        "outputId": "4c5e0fd2-c642-447b-ed74-5dde389a5268"
      },
      "source": [
        "valor_padaria = (vp_fcf+perpetuidade)\n",
        "valor_padaria "
      ],
      "execution_count": null,
      "outputs": [
        {
          "output_type": "execute_result",
          "data": {
            "text/plain": [
              "491447.5527724121"
            ]
          },
          "metadata": {
            "tags": []
          },
          "execution_count": 19
        }
      ]
    },
    {
      "cell_type": "code",
      "metadata": {
        "id": "VRfyPxsiTSFy"
      },
      "source": [
        ""
      ],
      "execution_count": null,
      "outputs": []
    }
  ]
}